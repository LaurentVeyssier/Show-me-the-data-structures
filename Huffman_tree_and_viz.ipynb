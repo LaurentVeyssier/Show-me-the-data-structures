{
 "cells": [
  {
   "cell_type": "markdown",
   "metadata": {},
   "source": [
    "# Huffman tree\n",
    "- visualization https://people.ok.ubc.ca/ylucet/DS/Huffman.html"
   ]
  },
  {
   "cell_type": "code",
   "execution_count": 23,
   "metadata": {},
   "outputs": [],
   "source": [
    "import sys\n",
    "from collections import Counter\n",
    "import random"
   ]
  },
  {
   "cell_type": "code",
   "execution_count": 24,
   "metadata": {},
   "outputs": [],
   "source": [
    "# class for tree node structure\n",
    "class Node:\n",
    "    def __init__(self, freq, char = None):\n",
    "        self.freq = freq\n",
    "        self.char = char\n",
    "        self.left = None\n",
    "        self.right = None\n",
    "\n",
    "# Class for priority queue and Huffman tree with various helper functions and methods\n",
    "class Tree:\n",
    "    def __init__(self):\n",
    "        self.items = []\n",
    "    \n",
    "    # add element to queue\n",
    "    def append(self, node):\n",
    "        self.items.append(node)\n",
    "        return\n",
    "    \n",
    "    # remove priority element from queue\n",
    "    def pull(self):\n",
    "        return self.items.pop(0)\n",
    "    \n",
    "    # allow to insert an element taking frequency order in consideration\n",
    "    def insert(self, node):\n",
    "        size=self.length()\n",
    "        if size == 0:\n",
    "            self.items.append(node)\n",
    "            return\n",
    "        if node.freq >= self.items[size-1].freq:\n",
    "            self.items.append(node)\n",
    "            return\n",
    "        for i in range(size):\n",
    "            if node.freq >= self.items[i].freq:\n",
    "                continue\n",
    "            else:\n",
    "                self.items.insert(i, node)\n",
    "                break\n",
    "    \n",
    "    # return length of the queue\n",
    "    def length(self):\n",
    "        return len(self.items)\n",
    "    \n",
    "    def is_empty(self):\n",
    "        return len(self.items) == 0"
   ]
  },
  {
   "cell_type": "markdown",
   "metadata": {},
   "source": [
    "# Encoding step"
   ]
  },
  {
   "cell_type": "code",
   "execution_count": 25,
   "metadata": {},
   "outputs": [],
   "source": [
    "def huffman_encoding(data):\n",
    "    '''perform the encoding step of the data\n",
    "    input = data (str)\n",
    "    outputs:\n",
    "        - char2code dictionary with the code associated to each character\n",
    "        - code: encoded input data (str)\n",
    "        - q: Huffman tree with 1 element providing the head (Tree class)\n",
    "    '''\n",
    "    \n",
    "    # defensive assertions\n",
    "    assert type(data)== str, \"please provide a string\"\n",
    "    assert len(data)!=0, \"The provided string to encode is an empty string\"\n",
    "    \n",
    "    # Build list of characters sorted by frequency of occurence (ascending order)\n",
    "    # compexity O(n) with n= number of characters\n",
    "    count = Counter()\n",
    "    for letter in data:\n",
    "        count.update(letter)\n",
    "    sorted_list = [(k,v) for k,v in count.items()]\n",
    "    sorted_list.sort(key= lambda x: x[1])\n",
    "    \n",
    "    #print('The freqencies of the characters in the message is:')\n",
    "    #print(sorted_list)\n",
    "    \n",
    "    # Build priority queue for Huffman using sorted list\n",
    "    # compexity O(n) with n= number of characters\n",
    "    q = Tree()\n",
    "    for char,freq in sorted_list:\n",
    "        new_node = Node(freq,char)\n",
    "        q.append(new_node)\n",
    "    \n",
    "    # Build Huffman Tree\n",
    "    ''' Pull operations from priority list is O(1)\n",
    "        insert operation is O(nlogn) in the worst case due to reduction of dataset at each step\n",
    "        overall the construction step has a worst case complexity O(nlogn)\n",
    "    '''\n",
    "    while q.length()>=2:\n",
    "        # pull the first two priority items with lowest frequencies\n",
    "        first = q.pull()\n",
    "        second = q.pull()\n",
    "        # create internal node with combined frequency and left / right children\n",
    "        freq = first.freq + second.freq\n",
    "        internal_node = Node(freq)\n",
    "        internal_node.left = first\n",
    "        internal_node.right = second\n",
    "        # insert new node back in the queue with frequency order\n",
    "        q.insert(internal_node)\n",
    "    \n",
    "    # Generate code for each character (leaf nodes)\n",
    "    def traverse(node, code, char2code):\n",
    "        '''Traverse the tree till a leaf is reached to determine code for each character. I use recursive approach.\n",
    "        this operation has worst case complexity of k x n where k is the number of node levels\n",
    "        so overall complexity is O(n)\n",
    "        inputs: node = current node, code = encoding container (str), char2code = dictionary mapping characters to their unique codes\n",
    "        outputs: code = encoded sequence(str) during recursion, char2code = dictionary mapping chars to codes\n",
    "        '''\n",
    "        if node:\n",
    "            if node.left:\n",
    "                code+='0'\n",
    "                code, char2code = traverse(node.left, code, char2code)\n",
    "            if node.right:\n",
    "                code+='1'\n",
    "                code, char2code = traverse(node.right, code, char2code)\n",
    "            if node.char:\n",
    "                char2code[node.char] = code\n",
    "            # remove last digit going back to previous node when:\n",
    "            # - a leaf / character has been reached\n",
    "            # - no further child is available during recursive process\n",
    "            code=code[:-1]\n",
    "        return code, char2code\n",
    "    \n",
    "    node = q.items[0]\n",
    "    code = ''\n",
    "    char2code = {}\n",
    "    _, char2code = traverse(node, code, char2code)\n",
    "        \n",
    "    # Generate encoded data\n",
    "    # This step has compexity O(n). Access to dictionary is in constant time.\n",
    "    code = ''\n",
    "    for letter in data:\n",
    "        code+=char2code[letter]\n",
    "    \n",
    "    return char2code, code, q"
   ]
  },
  {
   "cell_type": "markdown",
   "metadata": {},
   "source": [
    "# decoding step"
   ]
  },
  {
   "cell_type": "code",
   "execution_count": 26,
   "metadata": {},
   "outputs": [],
   "source": [
    "def huffman_decoding(data,tree):\n",
    "    '''\n",
    "    perform decoding of an encoded sequence to a string\n",
    "    inputs: data = encoded sequence (str), tree = huffman tree used for encoding\n",
    "    complexity is O(k) with k the number of digits in the encoded sequence. \n",
    "    Since k is a multiple of n, complexity is O(n)\n",
    "    '''\n",
    "    decoded_string = ''\n",
    "    node = tree.items[0]\n",
    "    for digit in data:\n",
    "        if digit=='0':\n",
    "            if node.left:\n",
    "                node = node.left\n",
    "                            \n",
    "        elif digit=='1':\n",
    "            if node.right:\n",
    "                node = node.right\n",
    "                        \n",
    "        if node.char:   \n",
    "            decoded_string+=node.char\n",
    "            node= tree.items[0]\n",
    "            \n",
    "    return decoded_string  "
   ]
  },
  {
   "cell_type": "markdown",
   "metadata": {},
   "source": [
    "# Data viz"
   ]
  },
  {
   "cell_type": "code",
   "execution_count": 27,
   "metadata": {},
   "outputs": [],
   "source": [
    "def draw(tree):\n",
    "    node=tree.items[0]\n",
    "    "
   ]
  },
  {
   "cell_type": "code",
   "execution_count": 28,
   "metadata": {},
   "outputs": [
    {
     "data": {
      "image/png": "[encoded data removed]",
      "text/plain": [
       "<Figure size 432x288 with 1 Axes>"
      ]
     },
     "metadata": {},
     "output_type": "display_data"
    }
   ],
   "source": [
    "import matplotlib.pyplot as plt\n",
    "import networkx as nx\n",
    "import pydot\n",
    "from networkx.drawing.nx_pydot import graphviz_layout\n",
    "\n",
    "T = nx.balanced_tree(2, 4)  # num children, num layers\n",
    "\n",
    "pos = graphviz_layout(T, prog=\"dot\")\n",
    "nx.draw(T, pos)\n",
    "plt.show()\n"
   ]
  },
  {
   "cell_type": "code",
   "execution_count": 29,
   "metadata": {},
   "outputs": [
    {
     "data": {
      "image/png": "[encoded data removed]",
      "text/plain": [
       "<Figure size 432x288 with 1 Axes>"
      ]
     },
     "metadata": {},
     "output_type": "display_data"
    }
   ],
   "source": [
    "g=nx.DiGraph()\n",
    "g.add_edges_from([(1,2), (1,3), (1,4), (2,5), (2,6), (2,7), (3,8), (3,9),\n",
    "                   (5,11), (5,12), (6,13)], label='papa')\n",
    "g.add_edge(4,10, label='toto')\n",
    "mapping={1:'a',2:'b'}\n",
    "g = nx.relabel_nodes(g,mapping)\n",
    "#p=nx.drawing.nx_pydot.to_pydot(g)\n",
    "pos = graphviz_layout(g, prog=\"dot\")\n",
    "nx.draw(g, pos,with_labels=True)\n",
    "plt.show()"
   ]
  },
  {
   "cell_type": "markdown",
   "metadata": {},
   "source": [
    "# Testing"
   ]
  },
  {
   "cell_type": "code",
   "execution_count": 30,
   "metadata": {},
   "outputs": [
    {
     "name": "stdout",
     "output_type": "stream",
     "text": [
      "\n",
      "=================== Test n°1 ===================\n",
      "\n",
      "The size of the data is: 74\n",
      "\n",
      "The content of the data is: AAAAAAABBBCCCCCCCDDEEEEEE\n",
      "\n",
      "The size of the encoded data is: 32\n",
      "\n",
      "The content of the encoded data is: 1010101010101000100100111111111111111000000010101010101\n",
      "\n",
      "The size of the decoded data is: 74\n",
      "\n",
      "The content of the encoded data is: AAAAAAABBBCCCCCCCDDEEEEEE\n",
      "\n",
      "\n",
      "=================== Test n°2 ===================\n",
      "\n",
      "The size of the data is: 69\n",
      "\n",
      "The content of the data is: The bird is the word\n",
      "\n",
      "The size of the encoded data is: 36\n",
      "\n",
      "The content of the encoded data is: 0110111011111100111000001010110000100011010011110111111010101011001010\n",
      "\n",
      "The size of the decoded data is: 69\n",
      "\n",
      "The content of the encoded data is: The bird is the word\n",
      "\n",
      "\n",
      "=================== Test n°3 ===================\n",
      "\n",
      "The size of the data is: 84\n",
      "\n",
      "The content of the data is: @Udacity: Is this project finished?\n",
      "\n",
      "The size of the encoded data is: 44\n",
      "\n",
      "The content of the encoded data is: 011100111111111100000100000110110001100100011001111100011101010100011100011010010101101101011101100100110100111000000110010001110010101101111111110\n",
      "\n",
      "The size of the decoded data is: 84\n",
      "\n",
      "The content of the encoded data is: @Udacity: Is this project finished?\n",
      "\n"
     ]
    }
   ],
   "source": [
    "if __name__ == \"__main__\":\n",
    "    codes = {}\n",
    "    \n",
    "    '''\n",
    "    Five test cases are provided. Note the 2 extreme cases: empty string, not string input\n",
    "    '''\n",
    "    \n",
    "    sentences = [\"AAAAAAABBBCCCCCCCDDEEEEEE\", \"The bird is the word\", random.choice(['', 123, '@Udacity: Is this project finished?'])]\n",
    "    \n",
    "    for index, sentence in enumerate(sentences):\n",
    "        \n",
    "        print(f'\\n=================== Test n°{index+1} ===================\\n')\n",
    "\n",
    "        print (\"The size of the data is: {}\\n\".format(sys.getsizeof(sentence)))\n",
    "        print (\"The content of the data is: {}\\n\".format(sentence))\n",
    "    \n",
    "        codes, encoded_data, tree = huffman_encoding(sentence)\n",
    "    \n",
    "        print (\"The size of the encoded data is: {}\\n\".format(sys.getsizeof(int(encoded_data, base=2))))\n",
    "        print (\"The content of the encoded data is: {}\\n\".format(encoded_data))\n",
    "    \n",
    "        decoded_data = huffman_decoding(encoded_data, tree)\n",
    "    \n",
    "        print (\"The size of the decoded data is: {}\\n\".format(sys.getsizeof(decoded_data)))\n",
    "        print (\"The content of the encoded data is: {}\\n\".format(decoded_data))\n"
   ]
  },
  {
   "cell_type": "code",
   "execution_count": null,
   "metadata": {},
   "outputs": [],
   "source": []
  },
  {
   "cell_type": "code",
   "execution_count": null,
   "metadata": {},
   "outputs": [],
   "source": []
  },
  {
   "cell_type": "code",
   "execution_count": null,
   "metadata": {},
   "outputs": [],
   "source": []
  },
  {
   "cell_type": "code",
   "execution_count": null,
   "metadata": {},
   "outputs": [],
   "source": []
  },
  {
   "cell_type": "code",
   "execution_count": null,
   "metadata": {},
   "outputs": [],
   "source": []
  },
  {
   "cell_type": "code",
   "execution_count": null,
   "metadata": {},
   "outputs": [],
   "source": []
  },
  {
   "cell_type": "code",
   "execution_count": null,
   "metadata": {},
   "outputs": [],
   "source": []
  },
  {
   "cell_type": "code",
   "execution_count": null,
   "metadata": {},
   "outputs": [],
   "source": []
  },
  {
   "cell_type": "code",
   "execution_count": null,
   "metadata": {},
   "outputs": [],
   "source": []
  },
  {
   "cell_type": "code",
   "execution_count": null,
   "metadata": {},
   "outputs": [],
   "source": []
  },
  {
   "cell_type": "code",
   "execution_count": null,
   "metadata": {},
   "outputs": [],
   "source": []
  },
  {
   "cell_type": "code",
   "execution_count": null,
   "metadata": {},
   "outputs": [],
   "source": []
  },
  {
   "cell_type": "code",
   "execution_count": null,
   "metadata": {},
   "outputs": [],
   "source": []
  },
  {
   "cell_type": "code",
   "execution_count": null,
   "metadata": {},
   "outputs": [],
   "source": []
  },
  {
   "cell_type": "code",
   "execution_count": null,
   "metadata": {},
   "outputs": [],
   "source": []
  },
  {
   "cell_type": "code",
   "execution_count": null,
   "metadata": {},
   "outputs": [],
   "source": []
  },
  {
   "cell_type": "code",
   "execution_count": null,
   "metadata": {},
   "outputs": [],
   "source": []
  },
  {
   "cell_type": "code",
   "execution_count": null,
   "metadata": {},
   "outputs": [],
   "source": []
  },
  {
   "cell_type": "code",
   "execution_count": null,
   "metadata": {},
   "outputs": [],
   "source": []
  },
  {
   "cell_type": "code",
   "execution_count": null,
   "metadata": {},
   "outputs": [],
   "source": []
  },
  {
   "cell_type": "code",
   "execution_count": null,
   "metadata": {},
   "outputs": [],
   "source": []
  },
  {
   "cell_type": "code",
   "execution_count": null,
   "metadata": {},
   "outputs": [],
   "source": []
  },
  {
   "cell_type": "code",
   "execution_count": null,
   "metadata": {},
   "outputs": [],
   "source": []
  },
  {
   "cell_type": "code",
   "execution_count": null,
   "metadata": {},
   "outputs": [],
   "source": []
  },
  {
   "cell_type": "code",
   "execution_count": null,
   "metadata": {},
   "outputs": [],
   "source": []
  },
  {
   "cell_type": "code",
   "execution_count": null,
   "metadata": {},
   "outputs": [],
   "source": []
  }
 ],
 "metadata": {
  "kernelspec": {
   "display_name": "torch",
   "language": "python",
   "name": "torch"
  },
  "language_info": {
   "codemirror_mode": {
    "name": "ipython",
    "version": 3
   },
   "file_extension": ".py",
   "mimetype": "text/x-python",
   "name": "python",
   "nbconvert_exporter": "python",
   "pygments_lexer": "ipython3",
   "version": "3.7.9"
  }
 },
 "nbformat": 4,
 "nbformat_minor": 4
}
